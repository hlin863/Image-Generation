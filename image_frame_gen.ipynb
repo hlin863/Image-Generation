{
  "cells": [
    {
      "cell_type": "markdown",
      "metadata": {
        "id": "mr44_u1mIJK5"
      },
      "source": [
        "<a href=\"https://colab.research.google.com/github/hlin863/Image-Generation/blob/image_frame_gen.ipynb\" target=\"_parent\"><img src=\"https://colab.research.google.com/assets/colab-badge.svg\" alt=\"Open In Colab\"/></a>"
      ]
    },
    {
      "cell_type": "code",
      "execution_count": 1,
      "metadata": {
        "id": "jM0gBKE2IJK8"
      },
      "outputs": [],
      "source": [
        "import torch\n",
        "from diffusers import StableDiffusionPipeline\n",
        "from PIL import Image"
      ]
    },
    {
      "cell_type": "code",
      "execution_count": 2,
      "metadata": {
        "id": "TAY_fFuPIJK9"
      },
      "outputs": [],
      "source": [
        "def generate_image_from_prompt(prompt, output_path=\"Output/generated_image.png\"):\n",
        "    # Load the pre-trained Stable Diffusion model\n",
        "    model_id = \"stable-diffusion-v1-5/stable-diffusion-v1-5\"\n",
        "    pipe = StableDiffusionPipeline.from_pretrained(model_id, torch_dtype=torch.float16)\n",
        "\n",
        "    # Generate the image from the prompt\n",
        "    with torch.no_grad():\n",
        "        image = pipe(prompt).images[0]\n",
        "\n",
        "    # Save the generated image\n",
        "    image.save(output_path)\n",
        "    print(f\"Generated image saved as {output_path}\")\n",
        "\n",
        "    # Display the image\n",
        "    image.show()"
      ]
    },
    {
      "cell_type": "code",
      "execution_count": null,
      "metadata": {
        "id": "omNTB1xSIJK9"
      },
      "outputs": [],
      "source": [
        "# Example usage\n",
        "generate_image_from_prompt(\"A realistic portrait of a young woman with natural light\")"
      ]
    }
  ],
  "metadata": {
    "kernelspec": {
      "display_name": "Python 3",
      "name": "python3"
    },
    "language_info": {
      "codemirror_mode": {
        "name": "ipython",
        "version": 3
      },
      "file_extension": ".py",
      "mimetype": "text/x-python",
      "name": "python",
      "nbconvert_exporter": "python",
      "pygments_lexer": "ipython3",
      "version": "3.11.0"
    },
    "colab": {
      "provenance": [],
      "gpuType": "T4"
    },
    "accelerator": "GPU"
  },
  "nbformat": 4,
  "nbformat_minor": 0
}